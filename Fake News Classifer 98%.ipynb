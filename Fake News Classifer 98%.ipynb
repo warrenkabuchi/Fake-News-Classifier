{
 "cells": [
  {
   "cell_type": "code",
   "execution_count": 1,
   "id": "77fe00e9",
   "metadata": {},
   "outputs": [],
   "source": [
    "import pandas as pd\n",
    "import seaborn as sns\n",
    "import nltk\n",
    "import re, string\n",
    "from nltk.tokenize import word_tokenize\n",
    "from nltk.corpus import stopwords\n",
    "from nltk.tokenize import word_tokenize\n",
    "from nltk.stem import SnowballStemmer\n",
    "from nltk.corpus import wordnet\n",
    "from nltk.stem import WordNetLemmatizer\n",
    "\n",
    "from sklearn.tree import DecisionTreeClassifier\n",
    "from sklearn.model_selection import cross_val_score, train_test_split\n",
    "from sklearn.metrics import accuracy_score, confusion_matrix, classification_report\n",
    "from sklearn.linear_model import LogisticRegression\n",
    "from sklearn.model_selection import KFold, cross_val_score, train_test_split\n",
    "from sklearn.model_selection import train_test_split\n",
    "from sklearn.linear_model import LogisticRegression\n",
    "from sklearn.naive_bayes import MultinomialNB\n",
    "from sklearn.metrics import classification_report, f1_score, accuracy_score, confusion_matrix\n",
    "from sklearn.metrics import roc_curve, auc, roc_auc_score\n",
    "\n",
    "# bag of words\n",
    "from sklearn.feature_extraction.text import TfidfVectorizer\n",
    "from sklearn.feature_extraction.text import CountVectorizer"
   ]
  },
  {
   "cell_type": "code",
   "execution_count": 2,
   "id": "b16ffa7e-a1d1-49d0-8531-a02ff78ae17b",
   "metadata": {},
   "outputs": [],
   "source": [
    "fake_df = pd.read_csv(\"Fake.csv\")\n",
    "true_df = pd.read_csv(\"True.csv\")"
   ]
  },
  {
   "cell_type": "code",
   "execution_count": 3,
   "id": "a5f4536b-06c1-4863-adf1-8eb8c5cb077c",
   "metadata": {
    "scrolled": true
   },
   "outputs": [
    {
     "data": {
      "text/html": [
       "<div>\n",
       "<style scoped>\n",
       "    .dataframe tbody tr th:only-of-type {\n",
       "        vertical-align: middle;\n",
       "    }\n",
       "\n",
       "    .dataframe tbody tr th {\n",
       "        vertical-align: top;\n",
       "    }\n",
       "\n",
       "    .dataframe thead th {\n",
       "        text-align: right;\n",
       "    }\n",
       "</style>\n",
       "<table border=\"1\" class=\"dataframe\">\n",
       "  <thead>\n",
       "    <tr style=\"text-align: right;\">\n",
       "      <th></th>\n",
       "      <th>title</th>\n",
       "      <th>text</th>\n",
       "      <th>subject</th>\n",
       "      <th>date</th>\n",
       "    </tr>\n",
       "  </thead>\n",
       "  <tbody>\n",
       "    <tr>\n",
       "      <th>0</th>\n",
       "      <td>Donald Trump Sends Out Embarrassing New Year’...</td>\n",
       "      <td>Donald Trump just couldn t wish all Americans ...</td>\n",
       "      <td>News</td>\n",
       "      <td>December 31, 2017</td>\n",
       "    </tr>\n",
       "    <tr>\n",
       "      <th>1</th>\n",
       "      <td>Drunk Bragging Trump Staffer Started Russian ...</td>\n",
       "      <td>House Intelligence Committee Chairman Devin Nu...</td>\n",
       "      <td>News</td>\n",
       "      <td>December 31, 2017</td>\n",
       "    </tr>\n",
       "    <tr>\n",
       "      <th>2</th>\n",
       "      <td>Sheriff David Clarke Becomes An Internet Joke...</td>\n",
       "      <td>On Friday, it was revealed that former Milwauk...</td>\n",
       "      <td>News</td>\n",
       "      <td>December 30, 2017</td>\n",
       "    </tr>\n",
       "    <tr>\n",
       "      <th>3</th>\n",
       "      <td>Trump Is So Obsessed He Even Has Obama’s Name...</td>\n",
       "      <td>On Christmas day, Donald Trump announced that ...</td>\n",
       "      <td>News</td>\n",
       "      <td>December 29, 2017</td>\n",
       "    </tr>\n",
       "    <tr>\n",
       "      <th>4</th>\n",
       "      <td>Pope Francis Just Called Out Donald Trump Dur...</td>\n",
       "      <td>Pope Francis used his annual Christmas Day mes...</td>\n",
       "      <td>News</td>\n",
       "      <td>December 25, 2017</td>\n",
       "    </tr>\n",
       "  </tbody>\n",
       "</table>\n",
       "</div>"
      ],
      "text/plain": [
       "                                               title  \\\n",
       "0   Donald Trump Sends Out Embarrassing New Year’...   \n",
       "1   Drunk Bragging Trump Staffer Started Russian ...   \n",
       "2   Sheriff David Clarke Becomes An Internet Joke...   \n",
       "3   Trump Is So Obsessed He Even Has Obama’s Name...   \n",
       "4   Pope Francis Just Called Out Donald Trump Dur...   \n",
       "\n",
       "                                                text subject  \\\n",
       "0  Donald Trump just couldn t wish all Americans ...    News   \n",
       "1  House Intelligence Committee Chairman Devin Nu...    News   \n",
       "2  On Friday, it was revealed that former Milwauk...    News   \n",
       "3  On Christmas day, Donald Trump announced that ...    News   \n",
       "4  Pope Francis used his annual Christmas Day mes...    News   \n",
       "\n",
       "                date  \n",
       "0  December 31, 2017  \n",
       "1  December 31, 2017  \n",
       "2  December 30, 2017  \n",
       "3  December 29, 2017  \n",
       "4  December 25, 2017  "
      ]
     },
     "execution_count": 3,
     "metadata": {},
     "output_type": "execute_result"
    }
   ],
   "source": [
    "fake_df.head()"
   ]
  },
  {
   "cell_type": "markdown",
   "id": "1cf298f1-62ae-45f5-806b-21e05ab9ca03",
   "metadata": {},
   "source": [
    "### Sampling"
   ]
  },
  {
   "cell_type": "code",
   "execution_count": 4,
   "id": "7de6890d-0a06-435c-a158-e79099549f06",
   "metadata": {},
   "outputs": [],
   "source": [
    "fake_df['label']=0\n",
    "true_df['label']=1"
   ]
  },
  {
   "cell_type": "code",
   "execution_count": 5,
   "id": "2a9f0569-e46a-445f-b682-70de37c4404b",
   "metadata": {},
   "outputs": [
    {
     "data": {
      "text/html": [
       "<div>\n",
       "<style scoped>\n",
       "    .dataframe tbody tr th:only-of-type {\n",
       "        vertical-align: middle;\n",
       "    }\n",
       "\n",
       "    .dataframe tbody tr th {\n",
       "        vertical-align: top;\n",
       "    }\n",
       "\n",
       "    .dataframe thead th {\n",
       "        text-align: right;\n",
       "    }\n",
       "</style>\n",
       "<table border=\"1\" class=\"dataframe\">\n",
       "  <thead>\n",
       "    <tr style=\"text-align: right;\">\n",
       "      <th></th>\n",
       "      <th>title</th>\n",
       "      <th>text</th>\n",
       "      <th>subject</th>\n",
       "      <th>date</th>\n",
       "      <th>label</th>\n",
       "    </tr>\n",
       "  </thead>\n",
       "  <tbody>\n",
       "    <tr>\n",
       "      <th>0</th>\n",
       "      <td>Donald Trump Sends Out Embarrassing New Year’...</td>\n",
       "      <td>Donald Trump just couldn t wish all Americans ...</td>\n",
       "      <td>News</td>\n",
       "      <td>December 31, 2017</td>\n",
       "      <td>0</td>\n",
       "    </tr>\n",
       "    <tr>\n",
       "      <th>1</th>\n",
       "      <td>Drunk Bragging Trump Staffer Started Russian ...</td>\n",
       "      <td>House Intelligence Committee Chairman Devin Nu...</td>\n",
       "      <td>News</td>\n",
       "      <td>December 31, 2017</td>\n",
       "      <td>0</td>\n",
       "    </tr>\n",
       "    <tr>\n",
       "      <th>2</th>\n",
       "      <td>Sheriff David Clarke Becomes An Internet Joke...</td>\n",
       "      <td>On Friday, it was revealed that former Milwauk...</td>\n",
       "      <td>News</td>\n",
       "      <td>December 30, 2017</td>\n",
       "      <td>0</td>\n",
       "    </tr>\n",
       "    <tr>\n",
       "      <th>3</th>\n",
       "      <td>Trump Is So Obsessed He Even Has Obama’s Name...</td>\n",
       "      <td>On Christmas day, Donald Trump announced that ...</td>\n",
       "      <td>News</td>\n",
       "      <td>December 29, 2017</td>\n",
       "      <td>0</td>\n",
       "    </tr>\n",
       "    <tr>\n",
       "      <th>4</th>\n",
       "      <td>Pope Francis Just Called Out Donald Trump Dur...</td>\n",
       "      <td>Pope Francis used his annual Christmas Day mes...</td>\n",
       "      <td>News</td>\n",
       "      <td>December 25, 2017</td>\n",
       "      <td>0</td>\n",
       "    </tr>\n",
       "  </tbody>\n",
       "</table>\n",
       "</div>"
      ],
      "text/plain": [
       "                                               title  \\\n",
       "0   Donald Trump Sends Out Embarrassing New Year’...   \n",
       "1   Drunk Bragging Trump Staffer Started Russian ...   \n",
       "2   Sheriff David Clarke Becomes An Internet Joke...   \n",
       "3   Trump Is So Obsessed He Even Has Obama’s Name...   \n",
       "4   Pope Francis Just Called Out Donald Trump Dur...   \n",
       "\n",
       "                                                text subject  \\\n",
       "0  Donald Trump just couldn t wish all Americans ...    News   \n",
       "1  House Intelligence Committee Chairman Devin Nu...    News   \n",
       "2  On Friday, it was revealed that former Milwauk...    News   \n",
       "3  On Christmas day, Donald Trump announced that ...    News   \n",
       "4  Pope Francis used his annual Christmas Day mes...    News   \n",
       "\n",
       "                date  label  \n",
       "0  December 31, 2017      0  \n",
       "1  December 31, 2017      0  \n",
       "2  December 30, 2017      0  \n",
       "3  December 29, 2017      0  \n",
       "4  December 25, 2017      0  "
      ]
     },
     "execution_count": 5,
     "metadata": {},
     "output_type": "execute_result"
    }
   ],
   "source": [
    "df = pd.concat([fake_df,true_df])\n",
    "df.head()"
   ]
  },
  {
   "cell_type": "code",
   "execution_count": 6,
   "id": "7eb291a0-3901-4d1b-bd45-2577cb82e355",
   "metadata": {},
   "outputs": [],
   "source": [
    "df=df.sample(n=10000)"
   ]
  },
  {
   "cell_type": "code",
   "execution_count": 7,
   "id": "22f890e4-7f34-4d70-a2af-d9730a3702e1",
   "metadata": {},
   "outputs": [
    {
     "name": "stderr",
     "output_type": "stream",
     "text": [
      "c:\\Users\\kabuc\\anaconda\\lib\\site-packages\\seaborn\\_decorators.py:36: FutureWarning: Pass the following variables as keyword args: x, y. From version 0.12, the only valid positional argument will be `data`, and passing other arguments without an explicit keyword will result in an error or misinterpretation.\n",
      "  warnings.warn(\n"
     ]
    },
    {
     "data": {
      "text/plain": [
       "<AxesSubplot:ylabel='label'>"
      ]
     },
     "execution_count": 7,
     "metadata": {},
     "output_type": "execute_result"
    },
    {
     "data": {
      "image/png": "[encoded data removed]",
      "text/plain": [
       "<Figure size 432x288 with 1 Axes>"
      ]
     },
     "metadata": {
      "needs_background": "light"
     },
     "output_type": "display_data"
    }
   ],
   "source": [
    "x= df[\"label\"].value_counts()\n",
    "sns.barplot(x.index,x)"
   ]
  },
  {
   "cell_type": "code",
   "execution_count": 8,
   "id": "475bc27f-bba3-4c29-8c25-89259784d543",
   "metadata": {},
   "outputs": [
    {
     "name": "stdout",
     "output_type": "stream",
     "text": [
      "<class 'pandas.core.frame.DataFrame'>\n",
      "Int64Index: 10000 entries, 2765 to 3701\n",
      "Data columns (total 5 columns):\n",
      " #   Column   Non-Null Count  Dtype \n",
      "---  ------   --------------  ----- \n",
      " 0   title    10000 non-null  object\n",
      " 1   text     10000 non-null  object\n",
      " 2   subject  10000 non-null  object\n",
      " 3   date     10000 non-null  object\n",
      " 4   label    10000 non-null  int64 \n",
      "dtypes: int64(1), object(4)\n",
      "memory usage: 468.8+ KB\n"
     ]
    }
   ],
   "source": [
    "df.info()"
   ]
  },
  {
   "cell_type": "code",
   "execution_count": 9,
   "id": "dbe3b9e3-eadb-4635-9300-658feef58caa",
   "metadata": {},
   "outputs": [
    {
     "name": "stdout",
     "output_type": "stream",
     "text": [
      "Number of duplicates:12\n"
     ]
    }
   ],
   "source": [
    "print(f\"Number of duplicates:{df.duplicated().sum()}\")"
   ]
  },
  {
   "cell_type": "code",
   "execution_count": 10,
   "id": "bcaf7df8-eaa8-4e4a-b432-aab1d3be583a",
   "metadata": {},
   "outputs": [],
   "source": [
    "df = df.drop_duplicates()"
   ]
  },
  {
   "cell_type": "code",
   "execution_count": 11,
   "id": "d8c6f5fd-a9be-498a-bacc-4170b7a93d28",
   "metadata": {},
   "outputs": [],
   "source": [
    "df.reset_index(inplace=True)"
   ]
  },
  {
   "cell_type": "code",
   "execution_count": 12,
   "id": "9a23976c-8a9d-4f99-a301-072c948b4099",
   "metadata": {},
   "outputs": [
    {
     "data": {
      "text/plain": [
       "array(['politicsNews', 'Government News', 'left-news', 'politics',\n",
       "       'worldnews', 'News', 'US_News', 'Middle-east'], dtype=object)"
      ]
     },
     "execution_count": 12,
     "metadata": {},
     "output_type": "execute_result"
    }
   ],
   "source": [
    "df.subject.unique()"
   ]
  },
  {
   "cell_type": "code",
   "execution_count": 13,
   "id": "15c20428-4a82-4c38-ad55-4ee77ac44655",
   "metadata": {},
   "outputs": [
    {
     "data": {
      "image/png": "[encoded data removed]",
      "text/plain": [
       "<Figure size 432x288 with 1 Axes>"
      ]
     },
     "metadata": {
      "needs_background": "light"
     },
     "output_type": "display_data"
    }
   ],
   "source": [
    "import matplotlib as plt\n",
    "import seaborn as sns\n",
    "\n",
    "plot=sns.countplot(y='subject',data= df,orient=\"h\",linewidth=15)"
   ]
  },
  {
   "cell_type": "markdown",
   "id": "80b6cf76-cd7d-4331-8afd-c7156f72d876",
   "metadata": {},
   "source": [
    "### removing punctuation"
   ]
  },
  {
   "cell_type": "code",
   "execution_count": 14,
   "id": "42bfd196-0ad7-4354-8f77-2c5d578ae5b2",
   "metadata": {},
   "outputs": [
    {
     "data": {
      "text/html": [
       "<div>\n",
       "<style scoped>\n",
       "    .dataframe tbody tr th:only-of-type {\n",
       "        vertical-align: middle;\n",
       "    }\n",
       "\n",
       "    .dataframe tbody tr th {\n",
       "        vertical-align: top;\n",
       "    }\n",
       "\n",
       "    .dataframe thead th {\n",
       "        text-align: right;\n",
       "    }\n",
       "</style>\n",
       "<table border=\"1\" class=\"dataframe\">\n",
       "  <thead>\n",
       "    <tr style=\"text-align: right;\">\n",
       "      <th></th>\n",
       "      <th>index</th>\n",
       "      <th>title</th>\n",
       "      <th>text</th>\n",
       "      <th>subject</th>\n",
       "      <th>date</th>\n",
       "      <th>label</th>\n",
       "    </tr>\n",
       "  </thead>\n",
       "  <tbody>\n",
       "    <tr>\n",
       "      <th>0</th>\n",
       "      <td>2765</td>\n",
       "      <td>For women at the U.S. Congress: the right to b...</td>\n",
       "      <td>WASHINGTON (Reuters) - After an internet-fuele...</td>\n",
       "      <td>politicsNews</td>\n",
       "      <td>July 13, 2017</td>\n",
       "      <td>1</td>\n",
       "    </tr>\n",
       "    <tr>\n",
       "      <th>1</th>\n",
       "      <td>8736</td>\n",
       "      <td>White House candidate Trump announces Pence as...</td>\n",
       "      <td>WASHINGTON (Reuters) - Republican Donald Trump...</td>\n",
       "      <td>politicsNews</td>\n",
       "      <td>July 15, 2016</td>\n",
       "      <td>1</td>\n",
       "    </tr>\n",
       "    <tr>\n",
       "      <th>2</th>\n",
       "      <td>16778</td>\n",
       "      <td>ALL HELL IS BREAKING LOOSE IN GERMANY: Citizen...</td>\n",
       "      <td>Enough is enough! German citizens are witnessi...</td>\n",
       "      <td>Government News</td>\n",
       "      <td>Feb 7, 2016</td>\n",
       "      <td>0</td>\n",
       "    </tr>\n",
       "    <tr>\n",
       "      <th>3</th>\n",
       "      <td>19481</td>\n",
       "      <td>WOW! GEORGIA Refused Election Cyber-Support Fr...</td>\n",
       "      <td>This is pretty scary stuff. A federal governme...</td>\n",
       "      <td>left-news</td>\n",
       "      <td>Dec 9, 2016</td>\n",
       "      <td>0</td>\n",
       "    </tr>\n",
       "    <tr>\n",
       "      <th>4</th>\n",
       "      <td>18792</td>\n",
       "      <td>GAME ON! UC Berkeley BANS Ann Coulter From Imm...</td>\n",
       "      <td>THE BIRTHPLACE OF FREE SPEECH IS NOW OFFICIALL...</td>\n",
       "      <td>left-news</td>\n",
       "      <td>Apr 19, 2017</td>\n",
       "      <td>0</td>\n",
       "    </tr>\n",
       "  </tbody>\n",
       "</table>\n",
       "</div>"
      ],
      "text/plain": [
       "   index                                              title  \\\n",
       "0   2765  For women at the U.S. Congress: the right to b...   \n",
       "1   8736  White House candidate Trump announces Pence as...   \n",
       "2  16778  ALL HELL IS BREAKING LOOSE IN GERMANY: Citizen...   \n",
       "3  19481  WOW! GEORGIA Refused Election Cyber-Support Fr...   \n",
       "4  18792  GAME ON! UC Berkeley BANS Ann Coulter From Imm...   \n",
       "\n",
       "                                                text          subject  \\\n",
       "0  WASHINGTON (Reuters) - After an internet-fuele...     politicsNews   \n",
       "1  WASHINGTON (Reuters) - Republican Donald Trump...     politicsNews   \n",
       "2  Enough is enough! German citizens are witnessi...  Government News   \n",
       "3  This is pretty scary stuff. A federal governme...        left-news   \n",
       "4  THE BIRTHPLACE OF FREE SPEECH IS NOW OFFICIALL...        left-news   \n",
       "\n",
       "             date  label  \n",
       "0  July 13, 2017       1  \n",
       "1  July 15, 2016       1  \n",
       "2     Feb 7, 2016      0  \n",
       "3     Dec 9, 2016      0  \n",
       "4    Apr 19, 2017      0  "
      ]
     },
     "execution_count": 14,
     "metadata": {},
     "output_type": "execute_result"
    }
   ],
   "source": [
    "import string\n",
    "string.punctuation\n",
    "df.head()"
   ]
  },
  {
   "cell_type": "code",
   "execution_count": 15,
   "id": "b49edaf1-20a4-4b4a-96a4-4242d3ec2efb",
   "metadata": {
    "tags": []
   },
   "outputs": [],
   "source": [
    "def pre_process(text):\n",
    "    text = text.lower() \n",
    "    text=text.strip()  \n",
    "    text=re.compile('<.*?>').sub('', text) \n",
    "    text = re.compile('[%s]' % re.escape(string.punctuation)).sub(' ', text)  \n",
    "    text = re.sub('\\s+', ' ', text)  \n",
    "    text = re.sub(r'\\[[0-9]*\\]',' ',text) \n",
    "    text=re.sub(r'[^\\w\\s]', '', str(text).lower().strip())\n",
    "    text = re.sub(r'\\d',' ',text) \n",
    "    text = re.sub(r'\\s+',' ',text) \n",
    "    return text"
   ]
  },
  {
   "cell_type": "markdown",
   "id": "a87a6c75",
   "metadata": {},
   "source": [
    "### removing stopwords"
   ]
  },
  {
   "cell_type": "code",
   "execution_count": 16,
   "id": "313cdf6d",
   "metadata": {
    "tags": []
   },
   "outputs": [],
   "source": [
    "def stopword(string):\n",
    "    a= [i for i in string.split() if i not in stopwords.words('english')]\n",
    "    return ' '.join(a)"
   ]
  },
  {
   "cell_type": "markdown",
   "id": "612d843c",
   "metadata": {},
   "source": [
    "### lemmatization"
   ]
  },
  {
   "cell_type": "code",
   "execution_count": 17,
   "id": "dda7ace5-edd3-4889-9c91-d401ddba87ba",
   "metadata": {},
   "outputs": [],
   "source": [
    "#LEMMATIZATION\n",
    "# Initialize the lemmatizer\n",
    "wl = WordNetLemmatizer()\n",
    " \n",
    "# This is a helper function to map NTLK position tags\n",
    "def get_wordnet_pos(tag):\n",
    "    if tag.startswith('J'):\n",
    "        return wordnet.ADJ\n",
    "    elif tag.startswith('V'):\n",
    "        return wordnet.VERB\n",
    "    elif tag.startswith('N'):\n",
    "        return wordnet.NOUN\n",
    "    elif tag.startswith('R'):\n",
    "        return wordnet.ADV\n",
    "    else:\n",
    "        return wordnet.NOUN"
   ]
  },
  {
   "cell_type": "markdown",
   "id": "e02e376b-bd50-4a5c-be54-710f86106550",
   "metadata": {},
   "source": [
    "### tokenize"
   ]
  },
  {
   "cell_type": "code",
   "execution_count": 18,
   "id": "8f040a6e-0e6f-4f1c-8315-08a7b476c596",
   "metadata": {
    "tags": []
   },
   "outputs": [],
   "source": [
    "# Tokenize the sentence\n",
    "def lemmatizer(string):\n",
    "    word_pos_tags = nltk.pos_tag(word_tokenize(string)) # Get position tags\n",
    "    a=[wl.lemmatize(tag[0], get_wordnet_pos(tag[1])) for idx, tag in enumerate(word_pos_tags)] # Map the position tag and lemmatize the word/token\n",
    "    return \" \".join(a)"
   ]
  },
  {
   "cell_type": "code",
   "execution_count": 19,
   "id": "af156774-a9eb-46b6-86f1-487a8fc1a5f7",
   "metadata": {},
   "outputs": [
    {
     "data": {
      "text/html": [
       "<div>\n",
       "<style scoped>\n",
       "    .dataframe tbody tr th:only-of-type {\n",
       "        vertical-align: middle;\n",
       "    }\n",
       "\n",
       "    .dataframe tbody tr th {\n",
       "        vertical-align: top;\n",
       "    }\n",
       "\n",
       "    .dataframe thead th {\n",
       "        text-align: right;\n",
       "    }\n",
       "</style>\n",
       "<table border=\"1\" class=\"dataframe\">\n",
       "  <thead>\n",
       "    <tr style=\"text-align: right;\">\n",
       "      <th></th>\n",
       "      <th>index</th>\n",
       "      <th>title</th>\n",
       "      <th>text</th>\n",
       "      <th>subject</th>\n",
       "      <th>date</th>\n",
       "      <th>label</th>\n",
       "      <th>clean_text</th>\n",
       "    </tr>\n",
       "  </thead>\n",
       "  <tbody>\n",
       "    <tr>\n",
       "      <th>0</th>\n",
       "      <td>2765</td>\n",
       "      <td>For women at the U.S. Congress: the right to b...</td>\n",
       "      <td>WASHINGTON (Reuters) - After an internet-fuele...</td>\n",
       "      <td>politicsNews</td>\n",
       "      <td>July 13, 2017</td>\n",
       "      <td>1</td>\n",
       "      <td>washington reuters internet fuel furor rule ba...</td>\n",
       "    </tr>\n",
       "    <tr>\n",
       "      <th>1</th>\n",
       "      <td>8736</td>\n",
       "      <td>White House candidate Trump announces Pence as...</td>\n",
       "      <td>WASHINGTON (Reuters) - Republican Donald Trump...</td>\n",
       "      <td>politicsNews</td>\n",
       "      <td>July 15, 2016</td>\n",
       "      <td>1</td>\n",
       "      <td>washington reuters republican donald trump cho...</td>\n",
       "    </tr>\n",
       "    <tr>\n",
       "      <th>2</th>\n",
       "      <td>16778</td>\n",
       "      <td>ALL HELL IS BREAKING LOOSE IN GERMANY: Citizen...</td>\n",
       "      <td>Enough is enough! German citizens are witnessi...</td>\n",
       "      <td>Government News</td>\n",
       "      <td>Feb 7, 2016</td>\n",
       "      <td>0</td>\n",
       "      <td>enough enough german citizen witness fast trac...</td>\n",
       "    </tr>\n",
       "    <tr>\n",
       "      <th>3</th>\n",
       "      <td>19481</td>\n",
       "      <td>WOW! GEORGIA Refused Election Cyber-Support Fr...</td>\n",
       "      <td>This is pretty scary stuff. A federal governme...</td>\n",
       "      <td>left-news</td>\n",
       "      <td>Dec 9, 2016</td>\n",
       "      <td>0</td>\n",
       "      <td>pretty scary stuff federal government agency r...</td>\n",
       "    </tr>\n",
       "    <tr>\n",
       "      <th>4</th>\n",
       "      <td>18792</td>\n",
       "      <td>GAME ON! UC Berkeley BANS Ann Coulter From Imm...</td>\n",
       "      <td>THE BIRTHPLACE OF FREE SPEECH IS NOW OFFICIALL...</td>\n",
       "      <td>left-news</td>\n",
       "      <td>Apr 19, 2017</td>\n",
       "      <td>0</td>\n",
       "      <td>birthplace free speech officially place oppres...</td>\n",
       "    </tr>\n",
       "  </tbody>\n",
       "</table>\n",
       "</div>"
      ],
      "text/plain": [
       "   index                                              title  \\\n",
       "0   2765  For women at the U.S. Congress: the right to b...   \n",
       "1   8736  White House candidate Trump announces Pence as...   \n",
       "2  16778  ALL HELL IS BREAKING LOOSE IN GERMANY: Citizen...   \n",
       "3  19481  WOW! GEORGIA Refused Election Cyber-Support Fr...   \n",
       "4  18792  GAME ON! UC Berkeley BANS Ann Coulter From Imm...   \n",
       "\n",
       "                                                text          subject  \\\n",
       "0  WASHINGTON (Reuters) - After an internet-fuele...     politicsNews   \n",
       "1  WASHINGTON (Reuters) - Republican Donald Trump...     politicsNews   \n",
       "2  Enough is enough! German citizens are witnessi...  Government News   \n",
       "3  This is pretty scary stuff. A federal governme...        left-news   \n",
       "4  THE BIRTHPLACE OF FREE SPEECH IS NOW OFFICIALL...        left-news   \n",
       "\n",
       "             date  label                                         clean_text  \n",
       "0  July 13, 2017       1  washington reuters internet fuel furor rule ba...  \n",
       "1  July 15, 2016       1  washington reuters republican donald trump cho...  \n",
       "2     Feb 7, 2016      0  enough enough german citizen witness fast trac...  \n",
       "3     Dec 9, 2016      0  pretty scary stuff federal government agency r...  \n",
       "4    Apr 19, 2017      0  birthplace free speech officially place oppres...  "
      ]
     },
     "execution_count": 19,
     "metadata": {},
     "output_type": "execute_result"
    }
   ],
   "source": [
    "def finalpreprocess(string):\n",
    "    return lemmatizer(stopword(pre_process(string)))\n",
    "df['clean_text'] = df['text'].apply(lambda x: finalpreprocess(x))\n",
    "df.head()"
   ]
  },
  {
   "cell_type": "code",
   "execution_count": 20,
   "id": "9ac6cca3-2ca3-43af-b77a-de488fc8e38a",
   "metadata": {},
   "outputs": [],
   "source": [
    "df.to_csv(\"cleaned.csv\")"
   ]
  },
  {
   "cell_type": "code",
   "execution_count": 21,
   "id": "0b0fded2-6d48-4290-9d4d-2ac063cdd638",
   "metadata": {},
   "outputs": [],
   "source": [
    "#SPLITTING THE TRAINING DATASET INTO TRAIN AND TEST\n",
    "\n",
    "X_train, X_test, y_train, y_test = train_test_split(df[\"clean_text\"],df[\"label\"],test_size=0.2,shuffle=True)"
   ]
  },
  {
   "cell_type": "code",
   "execution_count": 22,
   "id": "aee0932b-cbe6-4efc-bfbf-084605074800",
   "metadata": {},
   "outputs": [],
   "source": [
    "#Tf-Idf\n",
    "tfidf_vectorizer = TfidfVectorizer(use_idf=True)\n",
    "X_train = tfidf_vectorizer.fit_transform(X_train) \n",
    "X_test = tfidf_vectorizer.transform(X_test)"
   ]
  },
  {
   "cell_type": "code",
   "execution_count": 23,
   "id": "fef1a907-84cb-4f60-b8e3-7614fba8e804",
   "metadata": {},
   "outputs": [
    {
     "name": "stdout",
     "output_type": "stream",
     "text": [
      "              precision    recall  f1-score   support\n",
      "\n",
      "           0       0.99      0.99      0.99      1024\n",
      "           1       0.99      0.99      0.99       974\n",
      "\n",
      "    accuracy                           0.99      1998\n",
      "   macro avg       0.99      0.99      0.99      1998\n",
      "weighted avg       0.99      0.99      0.99      1998\n",
      "\n",
      "Confusion Matrix: [[1014   10]\n",
      " [  10  964]]\n",
      "AUC: 0.9993944109342916\n"
     ]
    }
   ],
   "source": [
    "#FITTING THE CLASSIFICATION MODEL using Logistic Regression(tf-idf)\n",
    "model=LogisticRegression(solver = 'liblinear', C=10, penalty = 'l2')\n",
    "model.fit(X_train, y_train)  \n",
    "#Predict y value for test dataset\n",
    "y_predict = model.predict(X_test)\n",
    "y_prob = model.predict_proba(X_test)[:,1]\n",
    "print(classification_report(y_test,y_predict))\n",
    "print('Confusion Matrix:',confusion_matrix(y_test, y_predict))\n",
    " \n",
    "fpr, tpr, thresholds = roc_curve(y_test, y_prob)\n",
    "roc_auc = auc(fpr, tpr)\n",
    "print('AUC:', roc_auc)"
   ]
  },
  {
   "cell_type": "code",
   "execution_count": 24,
   "id": "77755ec8-b6c5-4cbc-8e19-b0374af1c661",
   "metadata": {},
   "outputs": [
    {
     "name": "stdout",
     "output_type": "stream",
     "text": [
      "              precision    recall  f1-score   support\n",
      "\n",
      "           0       0.95      0.94      0.95      1024\n",
      "           1       0.94      0.95      0.94       974\n",
      "\n",
      "    accuracy                           0.95      1998\n",
      "   macro avg       0.95      0.95      0.95      1998\n",
      "weighted avg       0.95      0.95      0.95      1998\n",
      "\n",
      "Confusion Matrix: [[967  57]\n",
      " [ 52 922]]\n",
      "AUC: 0.984379010523614\n"
     ]
    }
   ],
   "source": [
    "#FITTING THE CLASSIFICATION MODEL using Naive Bayes(tf-idf)\n",
    "model = MultinomialNB()\n",
    "model.fit(X_train, y_train)  \n",
    "#Predict y value for test dataset\n",
    "y_predict = model.predict(X_test)\n",
    "y_prob = model.predict_proba(X_test)[:,1]\n",
    "print(classification_report(y_test,y_predict))\n",
    "print('Confusion Matrix:',confusion_matrix(y_test, y_predict))\n",
    " \n",
    "fpr, tpr, thresholds = roc_curve(y_test, y_prob)\n",
    "roc_auc = auc(fpr, tpr)\n",
    "print('AUC:', roc_auc)"
   ]
  },
  {
   "cell_type": "code",
   "execution_count": 25,
   "id": "eebd48ca-3133-43c7-a13d-39194392cb4f",
   "metadata": {},
   "outputs": [
    {
     "name": "stdout",
     "output_type": "stream",
     "text": [
      "[[1015    9]\n",
      " [   8  966]]\n",
      "Error: 0.008508508508508483\n",
      "Accuracy: 0.9914914914914915\n"
     ]
    }
   ],
   "source": [
    "# y_pred with DecisionTreeClassifier\n",
    "from sklearn.tree import DecisionTreeClassifier\n",
    "from sklearn.metrics import confusion_matrix, zero_one_loss, accuracy_score\n",
    "\n",
    "model = DecisionTreeClassifier(random_state=42)\n",
    "model.fit(X_train, y_train)\n",
    "y_pred = model.predict(X_test)\n",
    "\n",
    "print(confusion_matrix(y_test, y_pred))\n",
    "print(f'Error: {zero_one_loss(y_test, y_pred)}')\n",
    "print(f'Accuracy: {accuracy_score(y_test, y_pred)}')"
   ]
  }
 ],
 "metadata": {
  "interpreter": {
   "hash": "658003d2196ee96f5cfb68d5e3ee8456ae512e654fc66a31dae8201764e8379c"
  },
  "kernelspec": {
   "display_name": "Python 3.8.8 ('base')",
   "language": "python",
   "name": "python3"
  },
  "language_info": {
   "codemirror_mode": {
    "name": "ipython",
    "version": 3
   },
   "file_extension": ".py",
   "mimetype": "text/x-python",
   "name": "python",
   "nbconvert_exporter": "python",
   "pygments_lexer": "ipython3",
   "version": "3.8.8"
  }
 },
 "nbformat": 4,
 "nbformat_minor": 5
}
